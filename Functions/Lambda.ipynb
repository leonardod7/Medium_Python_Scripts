{
 "cells": [
  {
   "cell_type": "markdown",
   "source": [
    "As expressões lambda são chamadas de funções anônimas. São funções onde o usuário não precisa definir, ou seja, não vai precisar escrever a função e depois utilizá-la dentro do código.\n",
    "A sintaxe da função lambda pode variar de acordo com a situação.\n",
    "\n",
    "Por que usar funções lambda?\n",
    "R.: a Grande vantagem de criarmos a função lambda é que podemos usá-la como parâmetro para outra função. Não precisamos definir uma função para depois, passá-la para o MAP usá-la. Basta criar e passar o lambda adiante.\n",
    "\n",
    "Como funciona o lambda?\n",
    "R.: Ela recebe o que fica antes dos dois pontos como informação e, depois, te passa um resultado\n",
    "\n",
    "Exemplos:"
   ],
   "metadata": {
    "collapsed": false,
    "pycharm": {
     "name": "#%% md\n"
    }
   }
  },
  {
   "cell_type": "code",
   "execution_count": 6,
   "outputs": [
    {
     "data": {
      "text/plain": "300.0"
     },
     "execution_count": 6,
     "metadata": {},
     "output_type": "execute_result"
    }
   ],
   "source": [
    "# Forma convencional usando a criação de uma funçao def:\n",
    "\n",
    "preco = 1000\n",
    "\n",
    "def calcular_imposto(preco):\n",
    "    imposto = preco * 0.3\n",
    "    return imposto\n",
    "\n",
    "imposto = calcular_imposto(preco)\n",
    "imposto"
   ],
   "metadata": {
    "collapsed": false,
    "pycharm": {
     "name": "#%%\n"
    }
   }
  },
  {
   "cell_type": "code",
   "execution_count": 8,
   "outputs": [
    {
     "data": {
      "text/plain": "300.0"
     },
     "execution_count": 8,
     "metadata": {},
     "output_type": "execute_result"
    }
   ],
   "source": [
    "# A segunda forma seria calculando via lambda:\n",
    "\n",
    "preco = 1000\n",
    "\n",
    "calcular_imposto2 = lambda x: x*0.3   # o primeiro x antes dos dois pontos significa que é o que a função lambda vai receber como valor. O segundo x após os dois pontos, é o valor que ela vai dar como resposta\n",
    "\n",
    "imposto = calcular_imposto2(preco)\n",
    "imposto"
   ],
   "metadata": {
    "collapsed": false,
    "pycharm": {
     "name": "#%%\n"
    }
   }
  },
  {
   "cell_type": "markdown",
   "source": [
    "Não é necessário que o usuário sempre faça essa troca, poderá fazer construindo a função do modo padrão (def).\n",
    "A diferença vem quando nós aplicamos essa função dentro de outros métodos do Python, nesse caso teremos uma vantagem ao utilizar a função lambda\n",
    "Exemplo:"
   ],
   "metadata": {
    "collapsed": false,
    "pycharm": {
     "name": "#%% md\n"
    }
   }
  },
  {
   "cell_type": "code",
   "execution_count": 9,
   "outputs": [
    {
     "data": {
      "text/plain": "[37.5, 120.0, 11.1]"
     },
     "execution_count": 9,
     "metadata": {},
     "output_type": "execute_result"
    }
   ],
   "source": [
    "# Usando lambda\n",
    "\n",
    "precos = [125, 400, 37]\n",
    "\n",
    "impostos1 = list(map(lambda x: x*0.3, precos)) # a função map precisa da funcao para funcionar e da lista\n",
    "impostos1"
   ],
   "metadata": {
    "collapsed": false,
    "pycharm": {
     "name": "#%%\n"
    }
   }
  },
  {
   "cell_type": "code",
   "execution_count": 10,
   "outputs": [
    {
     "data": {
      "text/plain": "[37.5, 120.0, 11.1]"
     },
     "execution_count": 10,
     "metadata": {},
     "output_type": "execute_result"
    }
   ],
   "source": [
    "# Usando a definição da função\n",
    "\n",
    "precos = [125, 400, 37]\n",
    "\n",
    "impostos2 = list(map(calcular_imposto2, precos)) # a função map precisa da funcao para funcionar e da lista\n",
    "impostos2"
   ],
   "metadata": {
    "collapsed": false,
    "pycharm": {
     "name": "#%%\n"
    }
   }
  },
  {
   "cell_type": "markdown",
   "source": [
    "Função MAP\n",
    "\n",
    "Pega uma lista de informações e aplica, sobre cada um dos valores dessa lista, uma função. Isso quer dizer que o MAP vai pegar essa listas de informações e vai aplicar para cada elemento a função.\n",
    "Essa função MAP precisa de duas informações para que ela funcione: a função e a lista de informações"
   ],
   "metadata": {
    "collapsed": false,
    "pycharm": {
     "name": "#%% md\n"
    }
   }
  }
 ],
 "metadata": {
  "kernelspec": {
   "display_name": "Python 3",
   "language": "python",
   "name": "python3"
  },
  "language_info": {
   "codemirror_mode": {
    "name": "ipython",
    "version": 2
   },
   "file_extension": ".py",
   "mimetype": "text/x-python",
   "name": "python",
   "nbconvert_exporter": "python",
   "pygments_lexer": "ipython2",
   "version": "2.7.6"
  }
 },
 "nbformat": 4,
 "nbformat_minor": 0
}