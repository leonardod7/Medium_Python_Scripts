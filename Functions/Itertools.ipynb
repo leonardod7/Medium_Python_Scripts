{
 "cells": [
  {
   "cell_type": "markdown",
   "source": [
    "source:https://medium.com/@sarperismetmakas/python-itertools-module-643182c20efb"
   ],
   "metadata": {
    "collapsed": false
   }
  },
  {
   "cell_type": "markdown",
   "source": [
    "# Itertools"
   ],
   "metadata": {
    "collapsed": false
   }
  },
  {
   "cell_type": "markdown",
   "source": [
    "### Python’s itertools module contains routines for generating iterators for efficient looping over data structures. An iterator is a value-producing object that can be used in a loop to iterate over the values one by one. The itertools module includes utilities for creating iterators from various forms of input data.\n",
    "\n",
    "### The itertools module provides a variety of iterators, including infinite iterators, finite iterators, and combination iterators. The infinite iterators produce an endless number of values, whereas the finite iterators produce a finite number of values. From a collection of input data, the combination iterators construct a sequence of combinations."
   ],
   "metadata": {
    "collapsed": false
   },
   "execution_count": 1
  },
  {
   "cell_type": "markdown",
   "source": [
    "itertools.count(start=0, step=1)\n",
    "This function returns an iterator that generates an infinite sequence of values starting from a specified number and incrementing by a specified step size. The start and step arguments are optional and default to 0 and 1, respectively."
   ],
   "metadata": {
    "collapsed": false
   }
  },
  {
   "cell_type": "code",
   "execution_count": 3,
   "outputs": [
    {
     "name": "stdout",
     "output_type": "stream",
     "text": [
      "3\n",
      "5\n",
      "7\n",
      "9\n"
     ]
    }
   ],
   "source": [
    "import itertools\n",
    "\n",
    "count = itertools.count(start=3, step=2)\n",
    "for i in count:\n",
    "    if i > 10:\n",
    "        break\n",
    "    print(i)"
   ],
   "metadata": {
    "collapsed": false
   }
  },
  {
   "cell_type": "markdown",
   "source": [
    "itertools.cycle(iterable)\n",
    "This function returns an iterator that cycles through the values of an iterable infinitely. The iterable can be a list, tuple, or any other sequence."
   ],
   "metadata": {
    "collapsed": false
   }
  },
  {
   "cell_type": "code",
   "execution_count": 4,
   "outputs": [
    {
     "name": "stdout",
     "output_type": "stream",
     "text": [
      "A\n",
      "B\n",
      "C\n",
      "A\n",
      "B\n",
      "C\n"
     ]
    }
   ],
   "source": [
    "import itertools\n",
    "cycle = itertools.cycle(['A', 'B', 'C'])\n",
    "for i in range(6):\n",
    "    print(next(cycle))"
   ],
   "metadata": {
    "collapsed": false
   }
  },
  {
   "cell_type": "markdown",
   "source": [
    "itertools.repeat(object, times=None)\n",
    "This function returns an iterator that generates the specified object a specified number of times or infinitely if the times parameter is not provided. The object can be any value, including a function."
   ],
   "metadata": {
    "collapsed": false
   }
  },
  {
   "cell_type": "code",
   "execution_count": 5,
   "outputs": [
    {
     "name": "stdout",
     "output_type": "stream",
     "text": [
      "Hello\n",
      "Hello\n",
      "Hello\n"
     ]
    }
   ],
   "source": [
    "import itertools\n",
    "\n",
    "repeat = itertools.repeat('Hello', 3)\n",
    "for i in repeat:\n",
    "    print(i)"
   ],
   "metadata": {
    "collapsed": false
   }
  },
  {
   "cell_type": "markdown",
   "source": [
    "itertools.chain(*iterables)\n",
    "This function returns an iterator that chains the values of multiple iterables into a single sequence. The iterables can be any type of iterable, including lists, tuples, and generators."
   ],
   "metadata": {
    "collapsed": false
   }
  },
  {
   "cell_type": "code",
   "execution_count": 6,
   "outputs": [
    {
     "name": "stdout",
     "output_type": "stream",
     "text": [
      "1\n",
      "2\n",
      "3\n",
      "A\n",
      "B\n",
      "C\n"
     ]
    }
   ],
   "source": [
    "import itertools\n",
    "\n",
    "list1 = [1, 2, 3]\n",
    "list2 = ['A', 'B', 'C']\n",
    "chain = itertools.chain(list1, list2)\n",
    "for i in chain:\n",
    "    print(i)"
   ],
   "metadata": {
    "collapsed": false
   }
  },
  {
   "cell_type": "markdown",
   "source": [
    "itertools.slice(iterable, start, stop, step=None)\n",
    "This function returns an iterator that iterates through the supplied iterable, generating a slice. The start, stop, and step arguments are comparable to list slice notation."
   ],
   "metadata": {
    "collapsed": false
   }
  },
  {
   "cell_type": "code",
   "execution_count": 7,
   "outputs": [
    {
     "name": "stdout",
     "output_type": "stream",
     "text": [
      "2\n",
      "4\n",
      "6\n"
     ]
    }
   ],
   "source": [
    "import itertools\n",
    "\n",
    "iterable = range(10)\n",
    "islice = itertools.islice(iterable, 2, 7, 2)\n",
    "for i in islice:\n",
    "    print(i)"
   ],
   "metadata": {
    "collapsed": false
   }
  },
  {
   "cell_type": "markdown",
   "source": [
    "itertools.combinations(iterable, r)"
   ],
   "metadata": {
    "collapsed": false
   }
  },
  {
   "cell_type": "code",
   "execution_count": 8,
   "outputs": [
    {
     "name": "stdout",
     "output_type": "stream",
     "text": [
      "('A', 'B', 'C')\n",
      "('A', 'B', 'D')\n",
      "('A', 'C', 'D')\n",
      "('B', 'C', 'D')\n"
     ]
    }
   ],
   "source": [
    "iterable = ['A', 'B', 'C', 'D']\n",
    "combinations = itertools.combinations(iterable, 3)\n",
    "for i in combinations:\n",
    "    print(i)"
   ],
   "metadata": {
    "collapsed": false
   }
  },
  {
   "cell_type": "markdown",
   "source": [
    "itertools.permutations(iterable, r=None)\n",
    "This function returns an iterator that generates all possible permutations of a specified length (r) from the given iterable. The order of the elements in the permutations matters."
   ],
   "metadata": {
    "collapsed": false
   }
  },
  {
   "cell_type": "code",
   "execution_count": 9,
   "outputs": [
    {
     "name": "stdout",
     "output_type": "stream",
     "text": [
      "('A', 'B', 'C')\n",
      "('A', 'C', 'B')\n",
      "('B', 'A', 'C')\n",
      "('B', 'C', 'A')\n",
      "('C', 'A', 'B')\n",
      "('C', 'B', 'A')\n"
     ]
    }
   ],
   "source": [
    "import itertools\n",
    "\n",
    "iterable = ['A', 'B', 'C']\n",
    "permutations = itertools.permutations(iterable)\n",
    "for i in permutations:\n",
    "    print(i)"
   ],
   "metadata": {
    "collapsed": false
   }
  },
  {
   "cell_type": "code",
   "execution_count": 9,
   "outputs": [],
   "source": [],
   "metadata": {
    "collapsed": false
   }
  },
  {
   "cell_type": "code",
   "execution_count": 9,
   "outputs": [],
   "source": [],
   "metadata": {
    "collapsed": false
   }
  },
  {
   "cell_type": "code",
   "execution_count": 9,
   "outputs": [],
   "source": [],
   "metadata": {
    "collapsed": false
   }
  },
  {
   "cell_type": "code",
   "execution_count": 9,
   "outputs": [],
   "source": [],
   "metadata": {
    "collapsed": false
   }
  }
 ],
 "metadata": {
  "kernelspec": {
   "display_name": "Python 3",
   "language": "python",
   "name": "python3"
  },
  "language_info": {
   "codemirror_mode": {
    "name": "ipython",
    "version": 2
   },
   "file_extension": ".py",
   "mimetype": "text/x-python",
   "name": "python",
   "nbconvert_exporter": "python",
   "pygments_lexer": "ipython2",
   "version": "2.7.6"
  }
 },
 "nbformat": 4,
 "nbformat_minor": 0
}
