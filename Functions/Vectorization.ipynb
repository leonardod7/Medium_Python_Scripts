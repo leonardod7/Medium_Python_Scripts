{
 "cells": [
  {
   "cell_type": "markdown",
   "source": [
    "source: https://medium.com/codex/say-goodbye-to-loops-in-python-and-welcome-vectorization-e4df66615a52"
   ],
   "metadata": {
    "collapsed": false
   }
  },
  {
   "cell_type": "markdown",
   "source": [
    "# Loops come to us naturally, we learn about Loops in almost all programming languages. So, by default, we start implementing loops whenever there is a repetitive operation. But when we work with a large number of iterations (millions/billions of rows), using loops is a crime. You might be stuck for hours, to later realize that it won’t work. This is where implementing Vectorisation in python becomes super crucial.\n",
    "\n",
    "# Vectorization is the technique of implementing (NumPy) array operations on a dataset. In the background, it applies the operations to all the elements of an array or series in one go (unlike a ‘for’ loop that manipulates one row at a time)."
   ],
   "metadata": {
    "collapsed": false
   }
  },
  {
   "cell_type": "code",
   "execution_count": 1,
   "outputs": [
    {
     "name": "stdout",
     "output_type": "stream",
     "text": [
      "sum is:1124999250000\n",
      "0.19063472747802734\n"
     ]
    }
   ],
   "source": [
    "import time\n",
    "start = time.time()\n",
    "\n",
    "\n",
    "# iterative sum\n",
    "total = 0\n",
    "# iterating through 1.5 Million numbers\n",
    "for item in range(0, 1500000):\n",
    "    total = total + item\n",
    "\n",
    "\n",
    "print('sum is:' + str(total))\n",
    "end = time.time()\n",
    "\n",
    "print(end - start)"
   ],
   "metadata": {
    "collapsed": false
   }
  },
  {
   "cell_type": "code",
   "execution_count": 2,
   "outputs": [
    {
     "name": "stdout",
     "output_type": "stream",
     "text": [
      "1124999250000\n",
      "0.007496833801269531\n"
     ]
    }
   ],
   "source": [
    "import numpy as np\n",
    "\n",
    "start = time.time()\n",
    "\n",
    "# vectorized sum - using numpy for vectorization\n",
    "# np.arange create the sequence of numbers from 0 to 1499999\n",
    "print(np.sum(np.arange(1500000)))\n",
    "\n",
    "end = time.time()\n",
    "\n",
    "print(end - start)"
   ],
   "metadata": {
    "collapsed": false
   }
  },
  {
   "cell_type": "markdown",
   "source": [
    "# Vectorization took ~18x lesser time to execute as compared to the iteration using the range function. This difference will become more significant while working with Pandas DataFrame."
   ],
   "metadata": {
    "collapsed": false
   }
  },
  {
   "cell_type": "markdown",
   "source": [
    "# USE CASE 2: Mathematical Operations (on DataFrame)"
   ],
   "metadata": {
    "collapsed": false
   }
  },
  {
   "cell_type": "code",
   "execution_count": 4,
   "outputs": [
    {
     "data": {
      "text/plain": "    a   b   c   d\n0   6  28  23  28\n1  19  31   1  34\n2  42  11  26  37\n3   5  21  14   9\n4  30  36  16  11",
      "text/html": "<div>\n<style scoped>\n    .dataframe tbody tr th:only-of-type {\n        vertical-align: middle;\n    }\n\n    .dataframe tbody tr th {\n        vertical-align: top;\n    }\n\n    .dataframe thead th {\n        text-align: right;\n    }\n</style>\n<table border=\"1\" class=\"dataframe\">\n  <thead>\n    <tr style=\"text-align: right;\">\n      <th></th>\n      <th>a</th>\n      <th>b</th>\n      <th>c</th>\n      <th>d</th>\n    </tr>\n  </thead>\n  <tbody>\n    <tr>\n      <th>0</th>\n      <td>6</td>\n      <td>28</td>\n      <td>23</td>\n      <td>28</td>\n    </tr>\n    <tr>\n      <th>1</th>\n      <td>19</td>\n      <td>31</td>\n      <td>1</td>\n      <td>34</td>\n    </tr>\n    <tr>\n      <th>2</th>\n      <td>42</td>\n      <td>11</td>\n      <td>26</td>\n      <td>37</td>\n    </tr>\n    <tr>\n      <th>3</th>\n      <td>5</td>\n      <td>21</td>\n      <td>14</td>\n      <td>9</td>\n    </tr>\n    <tr>\n      <th>4</th>\n      <td>30</td>\n      <td>36</td>\n      <td>16</td>\n      <td>11</td>\n    </tr>\n  </tbody>\n</table>\n</div>"
     },
     "execution_count": 4,
     "metadata": {},
     "output_type": "execute_result"
    }
   ],
   "source": [
    "import numpy as np\n",
    "import pandas as pd\n",
    "df = pd.DataFrame(np.random.randint(0, 50, size=(5000000, 4)), columns=('a','b','c','d'))\n",
    "df.shape\n",
    "# (5000000, 5)\n",
    "df.head()"
   ],
   "metadata": {
    "collapsed": false
   }
  },
  {
   "cell_type": "markdown",
   "source": [
    "We will create a new column ‘ratio’ to find the ratio of the column ‘d’ and ‘c’."
   ],
   "metadata": {
    "collapsed": false
   }
  },
  {
   "cell_type": "markdown",
   "source": [
    "Using Loops"
   ],
   "metadata": {
    "collapsed": false
   }
  },
  {
   "cell_type": "code",
   "execution_count": 5,
   "outputs": [
    {
     "name": "stderr",
     "output_type": "stream",
     "text": [
      "/var/folders/q5/mq99vybs12g8j5nnycg2g3x80000gn/T/ipykernel_3398/1061630163.py:7: RuntimeWarning: divide by zero encountered in scalar divide\n",
      "  df.at[idx,'ratio'] = 100 * (row[\"d\"] / row[\"c\"])\n",
      "/var/folders/q5/mq99vybs12g8j5nnycg2g3x80000gn/T/ipykernel_3398/1061630163.py:7: RuntimeWarning: invalid value encountered in scalar divide\n",
      "  df.at[idx,'ratio'] = 100 * (row[\"d\"] / row[\"c\"])\n"
     ]
    },
    {
     "name": "stdout",
     "output_type": "stream",
     "text": [
      "410.49225091934204\n"
     ]
    }
   ],
   "source": [
    "import time\n",
    "start = time.time()\n",
    "\n",
    "# Iterating through DataFrame using iterrows\n",
    "for idx, row in df.iterrows():\n",
    "    # creating a new column\n",
    "    df.at[idx,'ratio'] = 100 * (row[\"d\"] / row[\"c\"])\n",
    "end = time.time()\n",
    "print(end - start)\n"
   ],
   "metadata": {
    "collapsed": false
   }
  },
  {
   "cell_type": "markdown",
   "source": [
    "Using Vectorization"
   ],
   "metadata": {
    "collapsed": false
   }
  },
  {
   "cell_type": "code",
   "execution_count": null,
   "outputs": [],
   "source": [
    "start = time.time()\n",
    "df[\"ratio\"] = 100 * (df[\"d\"] / df[\"c\"])\n",
    "\n",
    "end = time.time()\n",
    "print(end - start)"
   ],
   "metadata": {
    "collapsed": false
   }
  },
  {
   "cell_type": "markdown",
   "source": [
    "# USE CASE 3: If-else Statements (on DataFrame)"
   ],
   "metadata": {
    "collapsed": false
   }
  },
  {
   "cell_type": "markdown",
   "source": [
    "Using Loops"
   ],
   "metadata": {
    "collapsed": false
   }
  },
  {
   "cell_type": "code",
   "execution_count": null,
   "outputs": [],
   "source": [
    "import time\n",
    "start = time.time()\n",
    "\n",
    "# Iterating through DataFrame using iterrows\n",
    "for idx, row in df.iterrows():\n",
    "    if row.a == 0:\n",
    "        df.at[idx,'e'] = row.d\n",
    "    elif (row.a <= 25) & (row.a > 0):\n",
    "        df.at[idx,'e'] = (row.b)-(row.c)\n",
    "    else:\n",
    "        df.at[idx,'e'] = row.b + row.c\n",
    "\n",
    "end = time.time()\n",
    "\n",
    "print(end - start)"
   ],
   "metadata": {
    "collapsed": false,
    "pycharm": {
     "is_executing": true
    }
   }
  },
  {
   "cell_type": "markdown",
   "source": [
    "Using Vectorization"
   ],
   "metadata": {
    "collapsed": false
   }
  },
  {
   "cell_type": "code",
   "execution_count": null,
   "outputs": [],
   "source": [
    "start = time.time()\n",
    "df['e'] = df['b'] + df['c']\n",
    "df.loc[df['a'] <= 25, 'e'] = df['b'] -df['c']\n",
    "df.loc[df['a']==0, 'e'] = df['d']end = time.time()\n",
    "print(end - start)"
   ],
   "metadata": {
    "collapsed": false,
    "pycharm": {
     "is_executing": true
    }
   }
  },
  {
   "cell_type": "markdown",
   "source": [
    "Time taken by the Vectorization operation is 600x faster as compared to the python loops with if-else statements."
   ],
   "metadata": {
    "collapsed": false
   }
  },
  {
   "cell_type": "markdown",
   "source": [
    "# USE CASE 4 (Advance): Solving Machine Learning/Deep Learning Networks"
   ],
   "metadata": {
    "collapsed": false
   }
  },
  {
   "cell_type": "markdown",
   "source": [
    "Deep Learning requires us to solve multiple complex equations and that too for millions and billions of rows. Running loops in Python to solve these equations is very slow and Vectorization is the optimal solution.\n",
    "For example, to calculate the value of y for millions of rows in the following equation of multi-linear regression:\n",
    "\n",
    "    y = MixI +M2X2 + M3xz + M4x4 + M5x5 + C\n"
   ],
   "metadata": {
    "collapsed": false
   }
  },
  {
   "cell_type": "markdown",
   "source": [
    "we can replace loops with Vectorization.\n",
    "The values of m1,m2,m3… are determined by solving the above equation using millions of values corresponding to x1,x2,x3… (for simplicity, we will just look at a simple multiplication step)"
   ],
   "metadata": {
    "collapsed": false
   }
  },
  {
   "cell_type": "markdown",
   "source": [
    "Creating the Data"
   ],
   "metadata": {
    "collapsed": false
   }
  },
  {
   "cell_type": "code",
   "execution_count": 6,
   "outputs": [],
   "source": [
    "import numpy as np\n",
    "# setting initial values of m\n",
    "m = np.random.rand(1,5)\n",
    "\n",
    "# input values for 5 million rows\n",
    "x = np.random.rand(5000000,5)"
   ],
   "metadata": {
    "collapsed": false
   }
  },
  {
   "cell_type": "markdown",
   "source": [
    "Using Loops"
   ],
   "metadata": {
    "collapsed": false
   }
  },
  {
   "cell_type": "code",
   "execution_count": null,
   "outputs": [],
   "source": [
    "import numpy as np\n",
    "m = np.random.rand(1,5)\n",
    "x = np.random.rand(5000000,5)\n",
    "\n",
    "total = 0\n",
    "tic = time.process_time()\n",
    "\n",
    "for i in range(0,5000000):\n",
    "    total = 0\n",
    "    for j in range(0,5):\n",
    "        total = total + x[i][j]*m[0][j]\n",
    "\n",
    "    zer[i] = total\n",
    "\n",
    "toc = time.process_time()\n",
    "print (\"Computation time = \" + str((toc - tic)) + \"seconds\")"
   ],
   "metadata": {
    "collapsed": false,
    "pycharm": {
     "is_executing": true
    }
   }
  },
  {
   "cell_type": "markdown",
   "source": [
    "Using Vectorization"
   ],
   "metadata": {
    "collapsed": false
   },
   "execution_count": 6
  },
  {
   "cell_type": "markdown",
   "source": [
    "Vide imagem png vectorization"
   ],
   "metadata": {
    "collapsed": false
   }
  },
  {
   "cell_type": "code",
   "execution_count": null,
   "outputs": [],
   "source": [
    "tic = time.process_time()\n",
    "\n",
    "#dot product\n",
    "np.dot(x,m.T)\n",
    "\n",
    "toc = time.process_time()\n",
    "print (\"Computation time = \" + str((toc - tic)) + \"seconds\")\n"
   ],
   "metadata": {
    "collapsed": false,
    "pycharm": {
     "is_executing": true
    }
   }
  },
  {
   "cell_type": "markdown",
   "source": [
    "The np.dot implements Vectorized matrix multiplication in the backend. It is 165x faster as compared to loops in python.\n",
    "\n",
    "Conclusion:\n",
    "Vectorization in python is super fast and should be preferred over loops, whenever we are working with very large datasets.\n",
    "Start implementing it over time and you will become comfortable with thinking along the lines of vectorization of your codes."
   ],
   "metadata": {
    "collapsed": false
   }
  },
  {
   "cell_type": "code",
   "execution_count": 6,
   "outputs": [],
   "source": [],
   "metadata": {
    "collapsed": false
   }
  }
 ],
 "metadata": {
  "kernelspec": {
   "display_name": "Python 3",
   "language": "python",
   "name": "python3"
  },
  "language_info": {
   "codemirror_mode": {
    "name": "ipython",
    "version": 2
   },
   "file_extension": ".py",
   "mimetype": "text/x-python",
   "name": "python",
   "nbconvert_exporter": "python",
   "pygments_lexer": "ipython2",
   "version": "2.7.6"
  }
 },
 "nbformat": 4,
 "nbformat_minor": 0
}
