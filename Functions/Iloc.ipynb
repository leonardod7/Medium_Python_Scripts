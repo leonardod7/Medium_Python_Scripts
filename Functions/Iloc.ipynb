{
 "cells": [
  {
   "cell_type": "markdown",
   "source": [
    "Função iloc[] em Python Pandas"
   ],
   "metadata": {
    "collapsed": false,
    "pycharm": {
     "name": "#%% md\n"
    }
   }
  },
  {
   "cell_type": "markdown",
   "source": [
    "DataFrame.iloc: Indexação puramente baseada em localização através de inteiros para seleção por posição.\n",
    "\n",
    "iloc[] é basicamente baseado em posções representadas por inteiros (de 0 ao tamanhyo-1 do eixo) mas também pode ser usado com um array booleano.\n",
    "\n",
    "Entradas permitidas:\n",
    "\n",
    "- Um inteiro, por exemplo 5\n",
    "- Uma lista ou array de inteiros, ex. [4, 3, 0]\n",
    "- Um um objeto do tipo slice de inteiros, ex. 1:7\n",
    "- Um array booleano\n",
    "- Uma função que pode ser chamada com um argumento (Series, DataFrame ou Panel) e retorna uma saída válida para indexação (uma das opções acima). Isso é útil em cadeias de métodos, quando vc não tem uma referencia ao objeto de chamada, mas gostaria de basear sua seleção em algum valor. .iloc levantará a exceção IndexError se o índice requisitado estiver fora dos limites, embora a chamada via slices (de acordo com a semantica pyhton/numpy) admitam valores fora do limite."
   ],
   "metadata": {
    "collapsed": false,
    "pycharm": {
     "name": "#%% md\n"
    }
   }
  },
  {
   "cell_type": "code",
   "execution_count": 1,
   "outputs": [],
   "source": [
    "import pandas as pd"
   ],
   "metadata": {
    "collapsed": false,
    "pycharm": {
     "name": "#%%\n"
    }
   }
  },
  {
   "cell_type": "code",
   "execution_count": 2,
   "outputs": [
    {
     "data": {
      "text/plain": "      a     b     c     d\n0     1     2     3     4\n1   100   200   300   400\n2  1000  2000  3000  4000",
      "text/html": "<div>\n<style scoped>\n    .dataframe tbody tr th:only-of-type {\n        vertical-align: middle;\n    }\n\n    .dataframe tbody tr th {\n        vertical-align: top;\n    }\n\n    .dataframe thead th {\n        text-align: right;\n    }\n</style>\n<table border=\"1\" class=\"dataframe\">\n  <thead>\n    <tr style=\"text-align: right;\">\n      <th></th>\n      <th>a</th>\n      <th>b</th>\n      <th>c</th>\n      <th>d</th>\n    </tr>\n  </thead>\n  <tbody>\n    <tr>\n      <th>0</th>\n      <td>1</td>\n      <td>2</td>\n      <td>3</td>\n      <td>4</td>\n    </tr>\n    <tr>\n      <th>1</th>\n      <td>100</td>\n      <td>200</td>\n      <td>300</td>\n      <td>400</td>\n    </tr>\n    <tr>\n      <th>2</th>\n      <td>1000</td>\n      <td>2000</td>\n      <td>3000</td>\n      <td>4000</td>\n    </tr>\n  </tbody>\n</table>\n</div>"
     },
     "execution_count": 2,
     "metadata": {},
     "output_type": "execute_result"
    }
   ],
   "source": [
    "mydict = [{'a': 1, 'b': 2, 'c': 3, 'd': 4},{'a': 100, 'b': 200, 'c': 300, 'd': 400},{'a': 1000, 'b': 2000, 'c': 3000, 'd': 4000 }]\n",
    "df = pd.DataFrame(mydict) # transformamos o dicionário em um data frame\n",
    "df"
   ],
   "metadata": {
    "collapsed": false,
    "pycharm": {
     "name": "#%%\n"
    }
   }
  },
  {
   "cell_type": "code",
   "execution_count": 3,
   "outputs": [
    {
     "data": {
      "text/plain": "a    1\nb    2\nc    3\nd    4\nName: 0, dtype: int64"
     },
     "execution_count": 3,
     "metadata": {},
     "output_type": "execute_result"
    }
   ],
   "source": [
    "# Acessando a primeira linha do df com iloc[0]:\n",
    "df.iloc[0] # primeira linha"
   ],
   "metadata": {
    "collapsed": false,
    "pycharm": {
     "name": "#%%\n"
    }
   }
  },
  {
   "cell_type": "code",
   "execution_count": 4,
   "outputs": [
    {
     "data": {
      "text/plain": "pandas.core.series.Series"
     },
     "execution_count": 4,
     "metadata": {},
     "output_type": "execute_result"
    }
   ],
   "source": [
    "# investigando o tipo de objeto retornado quando fazemos a chamada acima:\n",
    "type(df.iloc[0])"
   ],
   "metadata": {
    "collapsed": false,
    "pycharm": {
     "name": "#%%\n"
    }
   }
  },
  {
   "cell_type": "code",
   "execution_count": 5,
   "outputs": [
    {
     "data": {
      "text/plain": "     a    b    c    d\n0    1    2    3    4\n1  100  200  300  400",
      "text/html": "<div>\n<style scoped>\n    .dataframe tbody tr th:only-of-type {\n        vertical-align: middle;\n    }\n\n    .dataframe tbody tr th {\n        vertical-align: top;\n    }\n\n    .dataframe thead th {\n        text-align: right;\n    }\n</style>\n<table border=\"1\" class=\"dataframe\">\n  <thead>\n    <tr style=\"text-align: right;\">\n      <th></th>\n      <th>a</th>\n      <th>b</th>\n      <th>c</th>\n      <th>d</th>\n    </tr>\n  </thead>\n  <tbody>\n    <tr>\n      <th>0</th>\n      <td>1</td>\n      <td>2</td>\n      <td>3</td>\n      <td>4</td>\n    </tr>\n    <tr>\n      <th>1</th>\n      <td>100</td>\n      <td>200</td>\n      <td>300</td>\n      <td>400</td>\n    </tr>\n  </tbody>\n</table>\n</div>"
     },
     "execution_count": 5,
     "metadata": {},
     "output_type": "execute_result"
    }
   ],
   "source": [
    "# Agora vamos acessar as duas primeiras linhas através de uma lista de inteiros:\n",
    "df.iloc[[0,1]]"
   ],
   "metadata": {
    "collapsed": false,
    "pycharm": {
     "name": "#%%\n"
    }
   }
  },
  {
   "cell_type": "code",
   "execution_count": 6,
   "outputs": [
    {
     "data": {
      "text/plain": "pandas.core.frame.DataFrame"
     },
     "execution_count": 6,
     "metadata": {},
     "output_type": "execute_result"
    }
   ],
   "source": [
    "# Investigando o tipo de objeto retornado pela chamada acima\n",
    "type(df.iloc[[0,1]])\n",
    "\n",
    "# Vejamos que agora o tipo de objeto do retorno foi um pandas.DataFrame, algo como um subdataframe"
   ],
   "metadata": {
    "collapsed": false,
    "pycharm": {
     "name": "#%%\n"
    }
   }
  },
  {
   "cell_type": "code",
   "execution_count": 7,
   "outputs": [
    {
     "data": {
      "text/plain": "      a     b     c     d\n0     1     2     3     4\n1   100   200   300   400\n2  1000  2000  3000  4000",
      "text/html": "<div>\n<style scoped>\n    .dataframe tbody tr th:only-of-type {\n        vertical-align: middle;\n    }\n\n    .dataframe tbody tr th {\n        vertical-align: top;\n    }\n\n    .dataframe thead th {\n        text-align: right;\n    }\n</style>\n<table border=\"1\" class=\"dataframe\">\n  <thead>\n    <tr style=\"text-align: right;\">\n      <th></th>\n      <th>a</th>\n      <th>b</th>\n      <th>c</th>\n      <th>d</th>\n    </tr>\n  </thead>\n  <tbody>\n    <tr>\n      <th>0</th>\n      <td>1</td>\n      <td>2</td>\n      <td>3</td>\n      <td>4</td>\n    </tr>\n    <tr>\n      <th>1</th>\n      <td>100</td>\n      <td>200</td>\n      <td>300</td>\n      <td>400</td>\n    </tr>\n    <tr>\n      <th>2</th>\n      <td>1000</td>\n      <td>2000</td>\n      <td>3000</td>\n      <td>4000</td>\n    </tr>\n  </tbody>\n</table>\n</div>"
     },
     "execution_count": 7,
     "metadata": {},
     "output_type": "execute_result"
    }
   ],
   "source": [
    "# Acessando com slices. Extrapolando o limite\n",
    "\n",
    "df.iloc[:60]"
   ],
   "metadata": {
    "collapsed": false,
    "pycharm": {
     "name": "#%%\n"
    }
   }
  },
  {
   "cell_type": "code",
   "execution_count": 8,
   "outputs": [
    {
     "data": {
      "text/plain": "      a     b     c     d\n2  1000  2000  3000  4000",
      "text/html": "<div>\n<style scoped>\n    .dataframe tbody tr th:only-of-type {\n        vertical-align: middle;\n    }\n\n    .dataframe tbody tr th {\n        vertical-align: top;\n    }\n\n    .dataframe thead th {\n        text-align: right;\n    }\n</style>\n<table border=\"1\" class=\"dataframe\">\n  <thead>\n    <tr style=\"text-align: right;\">\n      <th></th>\n      <th>a</th>\n      <th>b</th>\n      <th>c</th>\n      <th>d</th>\n    </tr>\n  </thead>\n  <tbody>\n    <tr>\n      <th>2</th>\n      <td>1000</td>\n      <td>2000</td>\n      <td>3000</td>\n      <td>4000</td>\n    </tr>\n  </tbody>\n</table>\n</div>"
     },
     "execution_count": 8,
     "metadata": {},
     "output_type": "execute_result"
    }
   ],
   "source": [
    "# Acessando com slices. Começando em 2 e indo até o final\n",
    "\n",
    "df.iloc[2::]"
   ],
   "metadata": {
    "collapsed": false,
    "pycharm": {
     "name": "#%%\n"
    }
   }
  },
  {
   "cell_type": "code",
   "execution_count": 9,
   "outputs": [
    {
     "data": {
      "text/plain": "      a     b     c     d\n0     1     2     3     4\n2  1000  2000  3000  4000",
      "text/html": "<div>\n<style scoped>\n    .dataframe tbody tr th:only-of-type {\n        vertical-align: middle;\n    }\n\n    .dataframe tbody tr th {\n        vertical-align: top;\n    }\n\n    .dataframe thead th {\n        text-align: right;\n    }\n</style>\n<table border=\"1\" class=\"dataframe\">\n  <thead>\n    <tr style=\"text-align: right;\">\n      <th></th>\n      <th>a</th>\n      <th>b</th>\n      <th>c</th>\n      <th>d</th>\n    </tr>\n  </thead>\n  <tbody>\n    <tr>\n      <th>0</th>\n      <td>1</td>\n      <td>2</td>\n      <td>3</td>\n      <td>4</td>\n    </tr>\n    <tr>\n      <th>2</th>\n      <td>1000</td>\n      <td>2000</td>\n      <td>3000</td>\n      <td>4000</td>\n    </tr>\n  </tbody>\n</table>\n</div>"
     },
     "execution_count": 9,
     "metadata": {},
     "output_type": "execute_result"
    }
   ],
   "source": [
    "# Através de uma função, util em cadeia de metodos, no exemplo abaixo o indice é passado para lambda que retorna, ao fim, uma lista de inteiros pares\n",
    "\n",
    "df.iloc[lambda x: x.index%2 ==0]\n",
    "\n",
    "# ou seja, ele roda o índice (0, 1, 2) e a divisão desse índice tem que dar resto 0 para ele retornar. Basicamente, tras as linhas pares cujos indices eram paresm no df original"
   ],
   "metadata": {
    "collapsed": false,
    "pycharm": {
     "name": "#%%\n"
    }
   }
  },
  {
   "cell_type": "code",
   "execution_count": 10,
   "outputs": [],
   "source": [
    "# indexando os 2 eixos:\n",
    "\n",
    "# Podemos, também, fazer um mix entre índices e colunas, no exemplo abaixo vamos acessar o valor da segunda coluna da primeira linha e depois os valores da primeira linha e terceira coluna mais a segunda linha e quarta coluna:\n"
   ],
   "metadata": {
    "collapsed": false,
    "pycharm": {
     "name": "#%%\n"
    }
   }
  },
  {
   "cell_type": "code",
   "execution_count": 11,
   "outputs": [
    {
     "data": {
      "text/plain": "2"
     },
     "execution_count": 11,
     "metadata": {},
     "output_type": "execute_result"
    }
   ],
   "source": [
    "# Acessando o valor da primeira linha na segunda coluna\n",
    "\n",
    "df.iloc[0,1]"
   ],
   "metadata": {
    "collapsed": false,
    "pycharm": {
     "name": "#%%\n"
    }
   }
  },
  {
   "cell_type": "code",
   "execution_count": 13,
   "outputs": [
    {
     "data": {
      "text/plain": "      b     d\n0     2     4\n2  2000  4000",
      "text/html": "<div>\n<style scoped>\n    .dataframe tbody tr th:only-of-type {\n        vertical-align: middle;\n    }\n\n    .dataframe tbody tr th {\n        vertical-align: top;\n    }\n\n    .dataframe thead th {\n        text-align: right;\n    }\n</style>\n<table border=\"1\" class=\"dataframe\">\n  <thead>\n    <tr style=\"text-align: right;\">\n      <th></th>\n      <th>b</th>\n      <th>d</th>\n    </tr>\n  </thead>\n  <tbody>\n    <tr>\n      <th>0</th>\n      <td>2</td>\n      <td>4</td>\n    </tr>\n    <tr>\n      <th>2</th>\n      <td>2000</td>\n      <td>4000</td>\n    </tr>\n  </tbody>\n</table>\n</div>"
     },
     "execution_count": 13,
     "metadata": {},
     "output_type": "execute_result"
    }
   ],
   "source": [
    "# Acessando os valores presentes na primeira e segunda linha da terceira e quarta coluna, respectivamente\n",
    "\n",
    "# a primeira lista informada: é primeira linha (0) e terceira coluna (2)\n",
    "# a segunda lista informada: é a segunda linha (1) e quarta coluna (3)\n",
    "df.iloc[[0,2], [1,3]]"
   ],
   "metadata": {
    "collapsed": false,
    "pycharm": {
     "name": "#%%\n"
    }
   }
  },
  {
   "cell_type": "code",
   "execution_count": 15,
   "outputs": [
    {
     "name": "stdout",
     "output_type": "stream",
     "text": [
      "     c    d\n",
      "0    3    4\n",
      "1  300  400\n"
     ]
    }
   ],
   "source": [
    "# Vamos copiar o valor de `df` definido acima para um novo df chamado `dados\n",
    "dados = df.copy()\n",
    "\n",
    "# Vamos definir a variável d com o valor 2\n",
    "y = 2\n",
    "\n",
    "# Executando o primeiro comando do codigo da pergunga\n",
    "x = dados.iloc[0:-1, y:]\n",
    "\n",
    "# Apresentando o resultado\n",
    "print(x)"
   ],
   "metadata": {
    "collapsed": false,
    "pycharm": {
     "name": "#%%\n"
    }
   }
  },
  {
   "cell_type": "code",
   "execution_count": 13,
   "outputs": [],
   "source": [
    "# O resultado acima é a terceira e a quarta colunas (c e d) das linhas 0 e 1. dados.iloc[0:-1, y:] indica um slice iniciando no índice 0 (linha 0) até a penúltimo ídicce (-1). As colunas foram selecionadas em função do valor da variável y (=2), ou seja da coluna 2 até a ultima (da c à d).\n"
   ],
   "metadata": {
    "collapsed": false,
    "pycharm": {
     "name": "#%%\n"
    }
   }
  },
  {
   "cell_type": "code",
   "execution_count": 19,
   "outputs": [
    {
     "name": "stdout",
     "output_type": "stream",
     "text": [
      "      a     b     c     d\n",
      "0     1     2     3     4\n",
      "1   100   200   300   400\n",
      "2  1000  2000  3000  4000\n"
     ]
    }
   ],
   "source": [
    "# Relembrando os valores no dataframe\n",
    "print(dados)"
   ],
   "metadata": {
    "collapsed": false,
    "pycharm": {
     "name": "#%%\n"
    }
   }
  },
  {
   "cell_type": "code",
   "execution_count": 21,
   "outputs": [
    {
     "name": "stdout",
     "output_type": "stream",
     "text": [
      "[1000 2000 3000 4000]\n"
     ]
    }
   ],
   "source": [
    "# Lista dos valores na linha do índice equivalente à variável 'y':\n",
    "print(dados.iloc[y].values)\n"
   ],
   "metadata": {
    "collapsed": false,
    "pycharm": {
     "name": "#%%\n"
    }
   }
  },
  {
   "cell_type": "code",
   "execution_count": 17,
   "outputs": [
    {
     "data": {
      "text/plain": "1000"
     },
     "execution_count": 17,
     "metadata": {},
     "output_type": "execute_result"
    }
   ],
   "source": [
    "# Essa linha atribui à variável y o primeiro valor da terceira linha (visto que o valor da variável y é 2) do dataframe, ou seja, 1000:\n",
    "\n",
    "y = 2\n",
    "k = dados.iloc[y].values[0]\n",
    "k"
   ],
   "metadata": {
    "collapsed": false,
    "pycharm": {
     "name": "#%%\n"
    }
   }
  }
 ],
 "metadata": {
  "kernelspec": {
   "display_name": "Python 3",
   "language": "python",
   "name": "python3"
  },
  "language_info": {
   "codemirror_mode": {
    "name": "ipython",
    "version": 2
   },
   "file_extension": ".py",
   "mimetype": "text/x-python",
   "name": "python",
   "nbconvert_exporter": "python",
   "pygments_lexer": "ipython2",
   "version": "2.7.6"
  }
 },
 "nbformat": 4,
 "nbformat_minor": 0
}